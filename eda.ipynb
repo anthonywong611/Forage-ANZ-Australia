{
 "cells": [
  {
   "cell_type": "code",
   "execution_count": 1,
   "metadata": {},
   "outputs": [],
   "source": [
    "import warnings\n",
    "warnings.filterwarnings('ignore')"
   ]
  },
  {
   "cell_type": "code",
   "execution_count": 2,
   "metadata": {},
   "outputs": [],
   "source": [
    "import numpy as np\n",
    "import pandas as pd\n",
    "import matplotlib.pyplot as plt\n",
    "import seaborn as sns"
   ]
  },
  {
   "cell_type": "code",
   "execution_count": 3,
   "metadata": {},
   "outputs": [],
   "source": [
    "file = 'ANZ_transactions.xlsx'\n",
    "transactions = pd.read_excel(f'./data/{file}')"
   ]
  },
  {
   "cell_type": "markdown",
   "metadata": {},
   "source": [
    "---"
   ]
  },
  {
   "cell_type": "markdown",
   "metadata": {},
   "source": [
    "## Objective: `Targeted Marketing of Housing Loans to Customers`"
   ]
  },
  {
   "cell_type": "markdown",
   "metadata": {},
   "source": [
    "---"
   ]
  },
  {
   "cell_type": "markdown",
   "metadata": {},
   "source": [
    "### Data Inspection"
   ]
  },
  {
   "cell_type": "code",
   "execution_count": null,
   "metadata": {},
   "outputs": [],
   "source": [
    "transactions.head(3)"
   ]
  },
  {
   "cell_type": "code",
   "execution_count": null,
   "metadata": {},
   "outputs": [],
   "source": [
    "info = pd.DataFrame({\n",
    "   'column': transactions.columns, \n",
    "   'total_null': transactions.isna().sum().values, \n",
    "   'na_%': np.round((transactions.isna().sum() / len(transactions)).values * 100, 2),\n",
    "   'type': transactions.dtypes.values\n",
    "}, index=range(1, transactions.shape[1] + 1)\n",
    ")"
   ]
  },
  {
   "cell_type": "code",
   "execution_count": null,
   "metadata": {},
   "outputs": [],
   "source": [
    "info.column"
   ]
  },
  {
   "cell_type": "code",
   "execution_count": null,
   "metadata": {},
   "outputs": [],
   "source": [
    "info[info.total_null != 0]"
   ]
  },
  {
   "cell_type": "markdown",
   "metadata": {},
   "source": [
    "Columns like `bpay_biller_code` and `merchant_code` have high null rate. We need to dig a bit further"
   ]
  },
  {
   "cell_type": "code",
   "execution_count": null,
   "metadata": {},
   "outputs": [],
   "source": [
    "print('Dimension: ', transactions.shape)"
   ]
  },
  {
   "cell_type": "markdown",
   "metadata": {},
   "source": [
    "---"
   ]
  },
  {
   "cell_type": "markdown",
   "metadata": {},
   "source": [
    "### Descriptive Statistics"
   ]
  },
  {
   "cell_type": "code",
   "execution_count": null,
   "metadata": {},
   "outputs": [],
   "source": [
    "transactions.describe()"
   ]
  },
  {
   "cell_type": "markdown",
   "metadata": {},
   "source": [
    "---"
   ]
  },
  {
   "cell_type": "markdown",
   "metadata": {},
   "source": [
    "## Exploratory Data Analysis"
   ]
  },
  {
   "cell_type": "code",
   "execution_count": null,
   "metadata": {},
   "outputs": [],
   "source": [
    "features = {\n",
    "   'categorical': ['status', 'currency', 'txn_description', 'gender', 'merchant_suburb', 'merchant_state', 'country', 'movement'],\n",
    "   'numerical': ['card_present_flag', 'balance', 'age', 'amount']\n",
    "}"
   ]
  },
  {
   "cell_type": "markdown",
   "metadata": {},
   "source": [
    "### Categorical Features"
   ]
  },
  {
   "cell_type": "code",
   "execution_count": null,
   "metadata": {},
   "outputs": [],
   "source": [
    "def value_counts_plot(feature: str, df: pd.DataFrame = transactions):\n",
    "   \"\"\"Plot a bar graph for the categorical feature <feature> in descending\n",
    "   order and another bar graph for the average transaction amount by <feature>.\n",
    "   Limit the plot to top 10 values.\n",
    "   \"\"\"\n",
    "   fig, axes = plt.subplots(1, 2, figsize=(12,6))\n",
    "   \n",
    "   sns.countplot(data=df, x=feature, ax=axes[0]);\n",
    "   sns.barplot(data=df, x=feature, y='amount', ax=axes[1])\n",
    "\n",
    "   axes[0].set_title('Number of Transactions by ' + feature.capitalize())\n",
    "   axes[1].set_title('Average Transaction Amount by ' + feature.capitalize())\n",
    "   axes[0].set_xticklabels(axes[0].get_xticklabels(), rotation=45)\n",
    "   axes[1].set_xticklabels(axes[0].get_xticklabels(), rotation=45)\n",
    "   "
   ]
  },
  {
   "cell_type": "markdown",
   "metadata": {},
   "source": [
    "`Status`"
   ]
  },
  {
   "cell_type": "code",
   "execution_count": null,
   "metadata": {},
   "outputs": [],
   "source": [
    "transactions.status.value_counts(dropna=False)"
   ]
  },
  {
   "cell_type": "code",
   "execution_count": null,
   "metadata": {},
   "outputs": [],
   "source": [
    "value_counts_plot(feature='status')"
   ]
  },
  {
   "cell_type": "markdown",
   "metadata": {},
   "source": [
    "`Currency`"
   ]
  },
  {
   "cell_type": "code",
   "execution_count": null,
   "metadata": {},
   "outputs": [],
   "source": [
    "transactions.currency.value_counts(dropna=False)"
   ]
  },
  {
   "cell_type": "markdown",
   "metadata": {},
   "source": [
    "`Transaction description`"
   ]
  },
  {
   "cell_type": "code",
   "execution_count": null,
   "metadata": {},
   "outputs": [],
   "source": [
    "transactions.txn_description.value_counts(dropna=False)"
   ]
  },
  {
   "cell_type": "code",
   "execution_count": null,
   "metadata": {},
   "outputs": [],
   "source": [
    "value_counts_plot(feature='txn_description')"
   ]
  },
  {
   "cell_type": "markdown",
   "metadata": {},
   "source": [
    "`Gender`"
   ]
  },
  {
   "cell_type": "code",
   "execution_count": null,
   "metadata": {},
   "outputs": [],
   "source": [
    "transactions.gender.value_counts(dropna=False)"
   ]
  },
  {
   "cell_type": "code",
   "execution_count": null,
   "metadata": {},
   "outputs": [],
   "source": [
    "value_counts_plot(feature='gender')"
   ]
  },
  {
   "cell_type": "markdown",
   "metadata": {},
   "source": [
    "`Merchant Suburb`"
   ]
  },
  {
   "cell_type": "code",
   "execution_count": null,
   "metadata": {},
   "outputs": [],
   "source": [
    "transactions.merchant_suburb.value_counts(dropna=False)"
   ]
  },
  {
   "cell_type": "markdown",
   "metadata": {},
   "source": [
    "Most transactions were processed in `Melbourne` and `Sydney`"
   ]
  },
  {
   "cell_type": "markdown",
   "metadata": {},
   "source": [
    "`Merchant State`"
   ]
  },
  {
   "cell_type": "code",
   "execution_count": null,
   "metadata": {},
   "outputs": [],
   "source": [
    "transactions.merchant_state.value_counts(dropna=False)"
   ]
  },
  {
   "cell_type": "code",
   "execution_count": null,
   "metadata": {},
   "outputs": [],
   "source": [
    "value_counts_plot(feature='merchant_state')"
   ]
  },
  {
   "cell_type": "markdown",
   "metadata": {},
   "source": [
    "`Country`"
   ]
  },
  {
   "cell_type": "code",
   "execution_count": null,
   "metadata": {},
   "outputs": [],
   "source": [
    "transactions.country.value_counts(dropna=False)"
   ]
  },
  {
   "cell_type": "markdown",
   "metadata": {},
   "source": [
    "`Movement`: Method of payment"
   ]
  },
  {
   "cell_type": "code",
   "execution_count": null,
   "metadata": {},
   "outputs": [],
   "source": [
    "transactions.movement.value_counts(dropna=False)"
   ]
  },
  {
   "cell_type": "code",
   "execution_count": null,
   "metadata": {},
   "outputs": [],
   "source": [
    "value_counts_plot(feature='movement')"
   ]
  },
  {
   "cell_type": "markdown",
   "metadata": {},
   "source": [
    "There are transactions of a much higher average amount processed through credit. Should look more into this to see if there is any suspicious or fraud. "
   ]
  },
  {
   "cell_type": "markdown",
   "metadata": {},
   "source": [
    "`currency` and `country` show that all transactions are made in Australia in Australian dollar, that is a trivial fact. We may drop these two columns since they don't provide any additional information. "
   ]
  },
  {
   "cell_type": "code",
   "execution_count": 4,
   "metadata": {},
   "outputs": [],
   "source": [
    "if 'currency' in transactions.columns and 'country' in transactions.columns:\n",
    "   del transactions['currency']\n",
    "   del transactions['country']"
   ]
  },
  {
   "cell_type": "code",
   "execution_count": null,
   "metadata": {},
   "outputs": [],
   "source": [
    "transactions.shape"
   ]
  },
  {
   "cell_type": "markdown",
   "metadata": {},
   "source": [
    "### Numerical Features"
   ]
  },
  {
   "cell_type": "code",
   "execution_count": null,
   "metadata": {},
   "outputs": [],
   "source": [
    "transactions.card_present_flag.value_counts(dropna=False)"
   ]
  },
  {
   "cell_type": "markdown",
   "metadata": {},
   "source": [
    "How is balance distributed?"
   ]
  },
  {
   "cell_type": "code",
   "execution_count": null,
   "metadata": {},
   "outputs": [],
   "source": [
    "sns.histplot(data=transactions, x='balance', kde=True, bins=30);\n",
    "plt.title('Distribution of Customer Account Balance');"
   ]
  },
  {
   "cell_type": "markdown",
   "metadata": {},
   "source": [
    "How is customer age distributed?"
   ]
  },
  {
   "cell_type": "code",
   "execution_count": null,
   "metadata": {},
   "outputs": [],
   "source": [
    "sns.histplot(data=transactions, x='age', kde=True);\n",
    "plt.title('Distribution of Customer Age');"
   ]
  },
  {
   "cell_type": "markdown",
   "metadata": {},
   "source": [
    "`There seems to be two groups of customers: one group of young adult (~23) and another group of middle-aged adult (~40)`"
   ]
  },
  {
   "cell_type": "markdown",
   "metadata": {},
   "source": [
    "How is transaction amounts distributed?"
   ]
  },
  {
   "cell_type": "code",
   "execution_count": null,
   "metadata": {},
   "outputs": [],
   "source": [
    "sns.histplot(data=transactions, x='amount', kde=True);\n",
    "plt.title('Distribution of Transaction Amount');"
   ]
  },
  {
   "cell_type": "markdown",
   "metadata": {},
   "source": [
    "### Handling Missing Values"
   ]
  },
  {
   "cell_type": "code",
   "execution_count": null,
   "metadata": {},
   "outputs": [],
   "source": [
    "info[info['total_null'] > 0].sort_values('na_%', ascending=False)"
   ]
  },
  {
   "cell_type": "markdown",
   "metadata": {},
   "source": [
    "`merchant_code` and `bpay_biller_code` contain too much missing values so they serve little use to the following analysis. Let's drop them both."
   ]
  },
  {
   "cell_type": "code",
   "execution_count": 5,
   "metadata": {},
   "outputs": [],
   "source": [
    "if 'merchant_code' in transactions.columns:\n",
    "   del transactions['merchant_code']\n",
    "if 'bpay_biller_code' in transactions.columns:\n",
    "   del transactions['bpay_biller_code']"
   ]
  },
  {
   "cell_type": "markdown",
   "metadata": {},
   "source": [
    "Recall that some transactions aren't made via POS and some are made through phone call or bank payment. Could these non-POS transactions be exactly those where the merchant and card info are missing? "
   ]
  },
  {
   "cell_type": "code",
   "execution_count": null,
   "metadata": {},
   "outputs": [],
   "source": [
    "transactions.txn_description.unique()"
   ]
  },
  {
   "cell_type": "code",
   "execution_count": null,
   "metadata": {},
   "outputs": [],
   "source": [
    "transactions[(transactions.txn_description != 'SALES-POS') & (transactions.txn_description != 'POS')].isna().sum().sort_values(ascending=False)"
   ]
  },
  {
   "cell_type": "markdown",
   "metadata": {},
   "source": [
    "Exactly! These 4326 transactions are all non-POS transactions. They are still valid records so let's just impute them with NA values"
   ]
  },
  {
   "cell_type": "code",
   "execution_count": 6,
   "metadata": {},
   "outputs": [],
   "source": [
    "impute_columns = ['merchant_state', 'merchant_id', 'merchant_long_lat', 'merchant_suburb', 'card_present_flag']"
   ]
  },
  {
   "cell_type": "code",
   "execution_count": 7,
   "metadata": {},
   "outputs": [],
   "source": [
    "for col in impute_columns:\n",
    "   transactions[col].fillna('N/A', inplace=True)"
   ]
  },
  {
   "cell_type": "markdown",
   "metadata": {},
   "source": [
    "Double check that there is no null values"
   ]
  },
  {
   "cell_type": "code",
   "execution_count": 8,
   "metadata": {},
   "outputs": [
    {
     "data": {
      "text/plain": [
       "status               0\n",
       "card_present_flag    0\n",
       "account              0\n",
       "long_lat             0\n",
       "txn_description      0\n",
       "merchant_id          0\n",
       "first_name           0\n",
       "balance              0\n",
       "date                 0\n",
       "gender               0\n",
       "age                  0\n",
       "merchant_suburb      0\n",
       "merchant_state       0\n",
       "extraction           0\n",
       "amount               0\n",
       "transaction_id       0\n",
       "customer_id          0\n",
       "merchant_long_lat    0\n",
       "movement             0\n",
       "dtype: int64"
      ]
     },
     "execution_count": 8,
     "metadata": {},
     "output_type": "execute_result"
    }
   ],
   "source": [
    "transactions.isna().sum()"
   ]
  },
  {
   "cell_type": "markdown",
   "metadata": {},
   "source": [
    "## Feature Engineering"
   ]
  },
  {
   "cell_type": "code",
   "execution_count": 9,
   "metadata": {},
   "outputs": [],
   "source": [
    "if 'month' not in transactions.columns:\n",
    "   transactions['month'] = transactions.date.dt.month\n",
    "if 'weekday' not in transactions.columns:\n",
    "   transactions['weekday'] = transactions.date.dt.weekday\n",
    "if 'month_name' not in transactions.columns:\n",
    "   transactions['month_name'] = transactions.date.dt.month_name()\n",
    "if 'day_name' not in transactions.columns:\n",
    "   transactions['day_name'] = transactions.date.dt.day_name()"
   ]
  },
  {
   "cell_type": "markdown",
   "metadata": {},
   "source": [
    "How many transactions do customers make each month on average? What's the average amount of transactions made each month?"
   ]
  },
  {
   "cell_type": "code",
   "execution_count": null,
   "metadata": {},
   "outputs": [],
   "source": [
    "transaction_month = transactions.groupby('month', as_index=False)\n",
    "pd.DataFrame({\n",
    "   'month': transaction_month.indices.keys(),\n",
    "   'total_number': transaction_month.size()['size'],\n",
    "   'average_amount': transaction_month.aggregate({'amount': 'mean'})['amount']\n",
    "})"
   ]
  },
  {
   "cell_type": "markdown",
   "metadata": {},
   "source": [
    "How many transactions do customers make each month on average?"
   ]
  },
  {
   "cell_type": "code",
   "execution_count": null,
   "metadata": {},
   "outputs": [],
   "source": [
    "monthly_average = transactions.groupby('customer_id').amount.sum().sort_values(ascending=False) / 3"
   ]
  },
  {
   "cell_type": "code",
   "execution_count": null,
   "metadata": {},
   "outputs": [],
   "source": [
    "plt.figure(figsize=(10,5))\n",
    "sns.histplot(data=monthly_average.to_frame(), x='amount', kde=True, bins=10);\n",
    "plt.title('Customers\\' Average Montly Transactions Amount');"
   ]
  },
  {
   "cell_type": "markdown",
   "metadata": {},
   "source": [
    "How many transactions do customers make each week day on average? What's the average transaction amount made each day?"
   ]
  },
  {
   "cell_type": "code",
   "execution_count": null,
   "metadata": {},
   "outputs": [],
   "source": [
    "transaction_day = transactions.groupby('day_name', as_index=False)\n",
    "pd.DataFrame({\n",
    "   'day': transaction_day.indices.keys(),\n",
    "   'total_number': transaction_day.size()['size'],\n",
    "   'average_amount': transaction_day.aggregate({'amount': 'mean'})['amount']\n",
    "})"
   ]
  },
  {
   "cell_type": "markdown",
   "metadata": {},
   "source": [
    "`Much less transactions amount occurs over the weekend.` Let's see how weekend activity compares with that during weekday "
   ]
  },
  {
   "cell_type": "code",
   "execution_count": 10,
   "metadata": {},
   "outputs": [],
   "source": [
    "if 'day_type' not in transactions:\n",
    "   transactions['day_type'] = transactions['day_name'].apply(lambda day_name: 'weekend' if day_name == 'Saturday' or day_name == 'Sunday' else 'business day')"
   ]
  },
  {
   "cell_type": "code",
   "execution_count": null,
   "metadata": {},
   "outputs": [],
   "source": [
    "sns.kdeplot(data=transactions, x='amount', hue='day_type');"
   ]
  },
  {
   "cell_type": "markdown",
   "metadata": {},
   "source": [
    "The distribution is heavily right-skewed so it's hard to determine any notable hidden patterns. Let's apply a logarithmic transformation to normalize it "
   ]
  },
  {
   "cell_type": "code",
   "execution_count": 11,
   "metadata": {},
   "outputs": [],
   "source": [
    "transactions['log_amount'] = transactions.amount.map(lambda amount: np.log(amount))"
   ]
  },
  {
   "cell_type": "code",
   "execution_count": null,
   "metadata": {},
   "outputs": [],
   "source": [
    "transactions_by_daytype = sns.FacetGrid(data=transactions, col='day_type', height=5)\n",
    "transactions_by_daytype.map(sns.histplot, 'log_amount', kde=True, bins=20);"
   ]
  },
  {
   "cell_type": "markdown",
   "metadata": {},
   "source": [
    "It looks like there are two notable groups of customer activities during week day: One group is revolved about `e^5 ≈ $148.41`; another group revolves about `e^7 ≈ $1096.63`"
   ]
  },
  {
   "cell_type": "markdown",
   "metadata": {},
   "source": [
    "Let's see what types of transactions occur during the weekend"
   ]
  },
  {
   "cell_type": "code",
   "execution_count": null,
   "metadata": {},
   "outputs": [],
   "source": [
    "import seaborn.objects as so"
   ]
  },
  {
   "cell_type": "code",
   "execution_count": null,
   "metadata": {},
   "outputs": [],
   "source": [
    "sns.displot(transactions, x='log_amount', hue='txn_description', multiple='stack');"
   ]
  },
  {
   "cell_type": "code",
   "execution_count": null,
   "metadata": {},
   "outputs": [],
   "source": [
    "pd.DataFrame(transactions.groupby(['day_name', 'txn_description']).amount.size()).unstack().plot(kind='bar', stacked=True, figsize=(15,8));\n",
    "plt.title('Number of Transactions Each Day by Desription');\n",
    "plt.legend(['INTER BANK', 'PAY/SALARY', 'PAYMENT', 'PHONE BANK', 'POS', 'SALES-POS']);\n",
    "plt.xticks(rotation='horizontal');\n",
    "plt.ylabel('Number of Transactions');"
   ]
  },
  {
   "cell_type": "markdown",
   "metadata": {},
   "source": [
    "The second group of more expensive activity turns out to be salary payment. And all salary activities took place during week day only so it make sense that less transactions of high amount occurred during weekend."
   ]
  },
  {
   "cell_type": "markdown",
   "metadata": {},
   "source": [
    "## Export Dataset for Second Task"
   ]
  },
  {
   "cell_type": "code",
   "execution_count": 13,
   "metadata": {},
   "outputs": [],
   "source": [
    "transactions.to_csv(f'./data/ANZ_clean_transactions.csv')"
   ]
  }
 ],
 "metadata": {
  "kernelspec": {
   "display_name": "Python 3.8.10 ('env': venv)",
   "language": "python",
   "name": "python3"
  },
  "language_info": {
   "codemirror_mode": {
    "name": "ipython",
    "version": 3
   },
   "file_extension": ".py",
   "mimetype": "text/x-python",
   "name": "python",
   "nbconvert_exporter": "python",
   "pygments_lexer": "ipython3",
   "version": "3.8.10"
  },
  "orig_nbformat": 4,
  "vscode": {
   "interpreter": {
    "hash": "66c54c15cc7b8c877a6529b2aa0f2ee90c6388ff68776f367d4f02d69b835de6"
   }
  }
 },
 "nbformat": 4,
 "nbformat_minor": 2
}
